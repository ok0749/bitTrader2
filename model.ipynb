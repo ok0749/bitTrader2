{
 "cells": [
  {
   "cell_type": "markdown",
   "metadata": {},
   "source": [
    "# 데이터 다운로드\n",
    "https://dacon.io/competitions/official/235740/data"
   ]
  },
  {
   "cell_type": "code",
   "execution_count": 1,
   "metadata": {},
   "outputs": [],
   "source": [
    "import zipfile"
   ]
  },
  {
   "cell_type": "code",
   "execution_count": 2,
   "metadata": {},
   "outputs": [],
   "source": [
    "path_to_zip_file = \"./data/data.zip\"\n",
    "directory_to_extract_to = \"./data\"\n",
    "\n",
    "with zipfile.ZipFile(path_to_zip_file) as zip_ref:\n",
    "    zip_ref.extractall(directory_to_extract_to)"
   ]
  },
  {
   "cell_type": "markdown",
   "metadata": {},
   "source": [
    "※ 데이터에 대한 자세한 설명은 토론 탭 데이터 및 대회 규칙 상세 설명 참조\n",
    "https://dacon.io/competitions/official/235740/data\n",
    "\n",
    "\n",
    "\n",
    "\n",
    "\n",
    "1. train_x_df.csv (10942020, 12)\n",
    "\n",
    "임의의 시점 부터 2021년 2월 28일까지 10가지 종류의 암호화폐의 분단위 가격정보를 가공한 데이터\n",
    "\n",
    "\n",
    "\n",
    "2. train_y_df.csv (951480, 12)\n",
    "\n",
    "임의의 시점 부터 2021년 2월 28일까지 10가지 종류의 암호화폐의 분단위 가격정보를 가공한 데이터\n",
    "\n",
    "\n",
    "\n",
    "3. test_x_df.csv (1048800, 12)\n",
    "\n",
    "2021년 3월 1일 부터 임의의 시점까지 9가지 종류의 암호화폐의 분단위 가격정보를 가공한 데이터\n",
    "\n",
    "이 중 일부 데이터를 public 점수를 계산하고, 다른 일부 데이터를 private 점수 계산하는데 사용합니다.\n",
    "\n",
    "\n",
    "\n",
    "4. sample_submission.csv  (760, 3)\n",
    "\n",
    " test_x_df에는 760가지 sample_id가 존재하고 각 sample_id는 1380분 동안의 가격 변동 정보를 포함합니다.\n",
    "buy_quantity : 현재 보유량 대비 샘플의 매수량 (0 ~ 1)\n",
    "sell_time : 샘플의 매도 시각. (0~ 119분 사이의 정수)\n",
    "\n",
    "\n",
    "\n",
    "\n",
    "\n",
    "\n",
    "[컬럼 설명]\n",
    "\n",
    "sample_id     : 개별 샘플의 인덱스\n",
    "time               : x_df는 0분 ~ 1379분, y_df는 0분 ~ 119분의 값을 갖습니다. 동일한 샘플 내 시간 정보\n",
    "coin_index    : 10가지 종류의 코인에 대한 비식별화 인덱스 (0 ~9)\n",
    "open              : open price\n",
    "high               : high price\n",
    "low                : low price\n",
    "close             : close price\n",
    "volume          : 거래량\n",
    "quote_av       : quote asset volume\n",
    "trades            : 거래 건 수\n",
    "tb_base_av   : taker buy base asset volume \n",
    "tb_quote_av  : taker buy quote asset volume"
   ]
  },
  {
   "cell_type": "code",
   "execution_count": 49,
   "metadata": {},
   "outputs": [],
   "source": [
    "import pandas as pd\n",
    "import joblib\n",
    "from lightgbm import LGBMRegressor\n",
    "from sklearn.multioutput import MultiOutputRegressor\n",
    "from sklearn.linear_model import LinearRegression\n",
    "import warnings\n",
    "warnings.filterwarnings('ignore')"
   ]
  },
  {
   "cell_type": "code",
   "execution_count": 8,
   "metadata": {},
   "outputs": [],
   "source": [
    "DATA_PATH = \"./data\"\n",
    "PATH_TO_SAVE_MODEL = \"./model\""
   ]
  },
  {
   "cell_type": "code",
   "execution_count": 6,
   "metadata": {},
   "outputs": [],
   "source": [
    "train_x = pd.read_csv(DATA_PATH  + \"/train_x_df.csv\")\n",
    "train_y = pd.read_csv(DATA_PATH  + \"/train_y_df.csv\")"
   ]
  },
  {
   "cell_type": "code",
   "execution_count": 7,
   "metadata": {},
   "outputs": [
    {
     "data": {
      "text/plain": [
       "((10942020, 12), (951480, 12), (1048800, 12))"
      ]
     },
     "execution_count": 7,
     "metadata": {},
     "output_type": "execute_result"
    }
   ],
   "source": [
    "train_x.shape, train_y.shape, test_x.shape"
   ]
  },
  {
   "cell_type": "code",
   "execution_count": 39,
   "metadata": {},
   "outputs": [],
   "source": [
    "# 2차원 데이터를 3차원 데이터(sample_id, time, open)로 변환\n",
    "x_train_open = pd.crosstab(index=train_x['sample_id'], columns=train_x['time'], values=train_x['open'], aggfunc='sum')\n",
    "y_train_open = pd.crosstab(index=train_y['sample_id'], columns=train_y['time'], values=train_y['open'], aggfunc='sum')"
   ]
  },
  {
   "cell_type": "code",
   "execution_count": 50,
   "metadata": {},
   "outputs": [
    {
     "data": {
      "text/html": [
       "<div>\n",
       "<style scoped>\n",
       "    .dataframe tbody tr th:only-of-type {\n",
       "        vertical-align: middle;\n",
       "    }\n",
       "\n",
       "    .dataframe tbody tr th {\n",
       "        vertical-align: top;\n",
       "    }\n",
       "\n",
       "    .dataframe thead th {\n",
       "        text-align: right;\n",
       "    }\n",
       "</style>\n",
       "<table border=\"1\" class=\"dataframe\">\n",
       "  <thead>\n",
       "    <tr style=\"text-align: right;\">\n",
       "      <th>time</th>\n",
       "      <th>0</th>\n",
       "      <th>1</th>\n",
       "      <th>2</th>\n",
       "      <th>3</th>\n",
       "      <th>4</th>\n",
       "      <th>5</th>\n",
       "      <th>6</th>\n",
       "      <th>7</th>\n",
       "      <th>8</th>\n",
       "      <th>9</th>\n",
       "      <th>10</th>\n",
       "      <th>11</th>\n",
       "      <th>12</th>\n",
       "      <th>13</th>\n",
       "      <th>14</th>\n",
       "    </tr>\n",
       "    <tr>\n",
       "      <th>sample_id</th>\n",
       "      <th></th>\n",
       "      <th></th>\n",
       "      <th></th>\n",
       "      <th></th>\n",
       "      <th></th>\n",
       "      <th></th>\n",
       "      <th></th>\n",
       "      <th></th>\n",
       "      <th></th>\n",
       "      <th></th>\n",
       "      <th></th>\n",
       "      <th></th>\n",
       "      <th></th>\n",
       "      <th></th>\n",
       "      <th></th>\n",
       "    </tr>\n",
       "  </thead>\n",
       "  <tbody>\n",
       "    <tr>\n",
       "      <th>0</th>\n",
       "      <td>1.000326</td>\n",
       "      <td>1.001342</td>\n",
       "      <td>1.000218</td>\n",
       "      <td>1.000689</td>\n",
       "      <td>1.001595</td>\n",
       "      <td>1.001632</td>\n",
       "      <td>1.002792</td>\n",
       "      <td>1.005620</td>\n",
       "      <td>1.007252</td>\n",
       "      <td>1.006889</td>\n",
       "      <td>1.007397</td>\n",
       "      <td>1.003372</td>\n",
       "      <td>1.003952</td>\n",
       "      <td>1.004532</td>\n",
       "      <td>1.004423</td>\n",
       "    </tr>\n",
       "    <tr>\n",
       "      <th>1</th>\n",
       "      <td>1.000655</td>\n",
       "      <td>1.001309</td>\n",
       "      <td>1.000561</td>\n",
       "      <td>1.000655</td>\n",
       "      <td>1.000280</td>\n",
       "      <td>1.000468</td>\n",
       "      <td>0.999719</td>\n",
       "      <td>0.999906</td>\n",
       "      <td>0.999719</td>\n",
       "      <td>0.999065</td>\n",
       "      <td>0.998504</td>\n",
       "      <td>0.999532</td>\n",
       "      <td>1.000842</td>\n",
       "      <td>1.002432</td>\n",
       "      <td>1.002525</td>\n",
       "    </tr>\n",
       "    <tr>\n",
       "      <th>2</th>\n",
       "      <td>1.000411</td>\n",
       "      <td>1.000971</td>\n",
       "      <td>1.001411</td>\n",
       "      <td>1.001747</td>\n",
       "      <td>1.001231</td>\n",
       "      <td>1.001031</td>\n",
       "      <td>1.000789</td>\n",
       "      <td>1.000787</td>\n",
       "      <td>1.000789</td>\n",
       "      <td>1.000715</td>\n",
       "      <td>1.000076</td>\n",
       "      <td>0.999827</td>\n",
       "      <td>0.999469</td>\n",
       "      <td>0.999626</td>\n",
       "      <td>0.999199</td>\n",
       "    </tr>\n",
       "    <tr>\n",
       "      <th>3</th>\n",
       "      <td>0.998480</td>\n",
       "      <td>0.996960</td>\n",
       "      <td>0.997129</td>\n",
       "      <td>0.995947</td>\n",
       "      <td>0.993075</td>\n",
       "      <td>0.992907</td>\n",
       "      <td>0.997467</td>\n",
       "      <td>0.998142</td>\n",
       "      <td>0.996453</td>\n",
       "      <td>0.997804</td>\n",
       "      <td>0.996960</td>\n",
       "      <td>0.996791</td>\n",
       "      <td>0.996791</td>\n",
       "      <td>0.995947</td>\n",
       "      <td>0.998480</td>\n",
       "    </tr>\n",
       "    <tr>\n",
       "      <th>4</th>\n",
       "      <td>1.000000</td>\n",
       "      <td>1.000000</td>\n",
       "      <td>1.000000</td>\n",
       "      <td>1.000000</td>\n",
       "      <td>1.000000</td>\n",
       "      <td>1.000000</td>\n",
       "      <td>1.000000</td>\n",
       "      <td>1.000000</td>\n",
       "      <td>1.000000</td>\n",
       "      <td>1.000000</td>\n",
       "      <td>1.000000</td>\n",
       "      <td>1.003677</td>\n",
       "      <td>1.003677</td>\n",
       "      <td>1.003677</td>\n",
       "      <td>1.003677</td>\n",
       "    </tr>\n",
       "  </tbody>\n",
       "</table>\n",
       "</div>"
      ],
      "text/plain": [
       "time             0         1         2         3         4         5   \\\n",
       "sample_id                                                               \n",
       "0          1.000326  1.001342  1.000218  1.000689  1.001595  1.001632   \n",
       "1          1.000655  1.001309  1.000561  1.000655  1.000280  1.000468   \n",
       "2          1.000411  1.000971  1.001411  1.001747  1.001231  1.001031   \n",
       "3          0.998480  0.996960  0.997129  0.995947  0.993075  0.992907   \n",
       "4          1.000000  1.000000  1.000000  1.000000  1.000000  1.000000   \n",
       "\n",
       "time             6         7         8         9         10        11  \\\n",
       "sample_id                                                               \n",
       "0          1.002792  1.005620  1.007252  1.006889  1.007397  1.003372   \n",
       "1          0.999719  0.999906  0.999719  0.999065  0.998504  0.999532   \n",
       "2          1.000789  1.000787  1.000789  1.000715  1.000076  0.999827   \n",
       "3          0.997467  0.998142  0.996453  0.997804  0.996960  0.996791   \n",
       "4          1.000000  1.000000  1.000000  1.000000  1.000000  1.003677   \n",
       "\n",
       "time             12        13        14  \n",
       "sample_id                                \n",
       "0          1.003952  1.004532  1.004423  \n",
       "1          1.000842  1.002432  1.002525  \n",
       "2          0.999469  0.999626  0.999199  \n",
       "3          0.996791  0.995947  0.998480  \n",
       "4          1.003677  1.003677  1.003677  "
      ]
     },
     "execution_count": 50,
     "metadata": {},
     "output_type": "execute_result"
    }
   ],
   "source": [
    "y_train_open.iloc[:, :15].head()"
   ]
  },
  {
   "cell_type": "code",
   "execution_count": 47,
   "metadata": {},
   "outputs": [
    {
     "data": {
      "text/plain": [
       "MultiOutputRegressor(estimator=LGBMRegressor())"
      ]
     },
     "execution_count": 47,
     "metadata": {},
     "output_type": "execute_result"
    }
   ],
   "source": [
    "model_lgbm = MultiOutputRegressor(LGBMRegressor())\n",
    "model_lgbm.fit(x_train_open, y_train_open.iloc[:, :16])"
   ]
  },
  {
   "cell_type": "markdown",
   "metadata": {},
   "source": []
  },
  {
   "cell_type": "code",
   "execution_count": 48,
   "metadata": {},
   "outputs": [
    {
     "data": {
      "text/plain": [
       "['./model/model_lgbm.joblib']"
      ]
     },
     "execution_count": 48,
     "metadata": {},
     "output_type": "execute_result"
    }
   ],
   "source": [
    "joblib.dump(model_lgbm, './model/model_lgbm.joblib')"
   ]
  },
  {
   "cell_type": "code",
   "execution_count": 51,
   "metadata": {},
   "outputs": [
    {
     "data": {
      "text/plain": [
       "LinearRegression()"
      ]
     },
     "execution_count": 51,
     "metadata": {},
     "output_type": "execute_result"
    }
   ],
   "source": [
    "model_linear = LinearRegression()\n",
    "model_linear.fit(x_train_open, y_train_open.iloc[:, :15])"
   ]
  },
  {
   "cell_type": "code",
   "execution_count": 54,
   "metadata": {},
   "outputs": [
    {
     "data": {
      "text/html": [
       "<div>\n",
       "<style scoped>\n",
       "    .dataframe tbody tr th:only-of-type {\n",
       "        vertical-align: middle;\n",
       "    }\n",
       "\n",
       "    .dataframe tbody tr th {\n",
       "        vertical-align: top;\n",
       "    }\n",
       "\n",
       "    .dataframe thead th {\n",
       "        text-align: right;\n",
       "    }\n",
       "</style>\n",
       "<table border=\"1\" class=\"dataframe\">\n",
       "  <thead>\n",
       "    <tr style=\"text-align: right;\">\n",
       "      <th>time</th>\n",
       "      <th>0</th>\n",
       "      <th>1</th>\n",
       "      <th>2</th>\n",
       "      <th>3</th>\n",
       "      <th>4</th>\n",
       "      <th>5</th>\n",
       "      <th>6</th>\n",
       "      <th>7</th>\n",
       "      <th>8</th>\n",
       "      <th>9</th>\n",
       "      <th>...</th>\n",
       "      <th>1370</th>\n",
       "      <th>1371</th>\n",
       "      <th>1372</th>\n",
       "      <th>1373</th>\n",
       "      <th>1374</th>\n",
       "      <th>1375</th>\n",
       "      <th>1376</th>\n",
       "      <th>1377</th>\n",
       "      <th>1378</th>\n",
       "      <th>1379</th>\n",
       "    </tr>\n",
       "    <tr>\n",
       "      <th>sample_id</th>\n",
       "      <th></th>\n",
       "      <th></th>\n",
       "      <th></th>\n",
       "      <th></th>\n",
       "      <th></th>\n",
       "      <th></th>\n",
       "      <th></th>\n",
       "      <th></th>\n",
       "      <th></th>\n",
       "      <th></th>\n",
       "      <th></th>\n",
       "      <th></th>\n",
       "      <th></th>\n",
       "      <th></th>\n",
       "      <th></th>\n",
       "      <th></th>\n",
       "      <th></th>\n",
       "      <th></th>\n",
       "      <th></th>\n",
       "      <th></th>\n",
       "      <th></th>\n",
       "    </tr>\n",
       "  </thead>\n",
       "  <tbody>\n",
       "    <tr>\n",
       "      <th>0</th>\n",
       "      <td>0.993147</td>\n",
       "      <td>0.993256</td>\n",
       "      <td>0.992748</td>\n",
       "      <td>0.994779</td>\n",
       "      <td>0.994561</td>\n",
       "      <td>0.995250</td>\n",
       "      <td>0.995033</td>\n",
       "      <td>1.000508</td>\n",
       "      <td>1.001668</td>\n",
       "      <td>0.999928</td>\n",
       "      <td>...</td>\n",
       "      <td>1.007759</td>\n",
       "      <td>1.010225</td>\n",
       "      <td>1.008883</td>\n",
       "      <td>1.004351</td>\n",
       "      <td>1.003916</td>\n",
       "      <td>1.003807</td>\n",
       "      <td>1.003336</td>\n",
       "      <td>1.000725</td>\n",
       "      <td>0.997136</td>\n",
       "      <td>1.0</td>\n",
       "    </tr>\n",
       "    <tr>\n",
       "      <th>1</th>\n",
       "      <td>1.045824</td>\n",
       "      <td>1.046666</td>\n",
       "      <td>1.046853</td>\n",
       "      <td>1.045918</td>\n",
       "      <td>1.046292</td>\n",
       "      <td>1.044235</td>\n",
       "      <td>1.039091</td>\n",
       "      <td>1.033293</td>\n",
       "      <td>1.034228</td>\n",
       "      <td>1.033480</td>\n",
       "      <td>...</td>\n",
       "      <td>1.001122</td>\n",
       "      <td>1.001029</td>\n",
       "      <td>0.999345</td>\n",
       "      <td>0.999158</td>\n",
       "      <td>0.999719</td>\n",
       "      <td>0.999439</td>\n",
       "      <td>0.997288</td>\n",
       "      <td>0.998691</td>\n",
       "      <td>1.000374</td>\n",
       "      <td>1.0</td>\n",
       "    </tr>\n",
       "    <tr>\n",
       "      <th>2</th>\n",
       "      <td>1.003717</td>\n",
       "      <td>1.003620</td>\n",
       "      <td>1.002736</td>\n",
       "      <td>1.003788</td>\n",
       "      <td>1.003119</td>\n",
       "      <td>1.001574</td>\n",
       "      <td>1.001822</td>\n",
       "      <td>1.001390</td>\n",
       "      <td>0.998011</td>\n",
       "      <td>1.001095</td>\n",
       "      <td>...</td>\n",
       "      <td>1.001095</td>\n",
       "      <td>1.001165</td>\n",
       "      <td>1.000907</td>\n",
       "      <td>1.000744</td>\n",
       "      <td>0.999618</td>\n",
       "      <td>0.999595</td>\n",
       "      <td>0.999602</td>\n",
       "      <td>0.999696</td>\n",
       "      <td>0.999860</td>\n",
       "      <td>1.0</td>\n",
       "    </tr>\n",
       "    <tr>\n",
       "      <th>3</th>\n",
       "      <td>1.034791</td>\n",
       "      <td>1.034623</td>\n",
       "      <td>1.034116</td>\n",
       "      <td>1.034623</td>\n",
       "      <td>1.034791</td>\n",
       "      <td>1.034623</td>\n",
       "      <td>1.034623</td>\n",
       "      <td>1.034623</td>\n",
       "      <td>1.034623</td>\n",
       "      <td>1.034285</td>\n",
       "      <td>...</td>\n",
       "      <td>1.000338</td>\n",
       "      <td>1.001013</td>\n",
       "      <td>1.000676</td>\n",
       "      <td>1.000676</td>\n",
       "      <td>1.000338</td>\n",
       "      <td>1.000169</td>\n",
       "      <td>1.000507</td>\n",
       "      <td>1.000000</td>\n",
       "      <td>0.999324</td>\n",
       "      <td>1.0</td>\n",
       "    </tr>\n",
       "    <tr>\n",
       "      <th>4</th>\n",
       "      <td>1.180147</td>\n",
       "      <td>1.176471</td>\n",
       "      <td>1.176471</td>\n",
       "      <td>1.180147</td>\n",
       "      <td>1.172794</td>\n",
       "      <td>1.165441</td>\n",
       "      <td>1.165441</td>\n",
       "      <td>1.165441</td>\n",
       "      <td>1.165441</td>\n",
       "      <td>1.172794</td>\n",
       "      <td>...</td>\n",
       "      <td>0.996324</td>\n",
       "      <td>0.996324</td>\n",
       "      <td>0.996324</td>\n",
       "      <td>0.996324</td>\n",
       "      <td>0.996324</td>\n",
       "      <td>0.996324</td>\n",
       "      <td>0.996324</td>\n",
       "      <td>0.996324</td>\n",
       "      <td>0.996324</td>\n",
       "      <td>1.0</td>\n",
       "    </tr>\n",
       "  </tbody>\n",
       "</table>\n",
       "<p>5 rows × 1380 columns</p>\n",
       "</div>"
      ],
      "text/plain": [
       "time           0         1         2         3         4         5     \\\n",
       "sample_id                                                               \n",
       "0          0.993147  0.993256  0.992748  0.994779  0.994561  0.995250   \n",
       "1          1.045824  1.046666  1.046853  1.045918  1.046292  1.044235   \n",
       "2          1.003717  1.003620  1.002736  1.003788  1.003119  1.001574   \n",
       "3          1.034791  1.034623  1.034116  1.034623  1.034791  1.034623   \n",
       "4          1.180147  1.176471  1.176471  1.180147  1.172794  1.165441   \n",
       "\n",
       "time           6         7         8         9     ...      1370      1371  \\\n",
       "sample_id                                          ...                       \n",
       "0          0.995033  1.000508  1.001668  0.999928  ...  1.007759  1.010225   \n",
       "1          1.039091  1.033293  1.034228  1.033480  ...  1.001122  1.001029   \n",
       "2          1.001822  1.001390  0.998011  1.001095  ...  1.001095  1.001165   \n",
       "3          1.034623  1.034623  1.034623  1.034285  ...  1.000338  1.001013   \n",
       "4          1.165441  1.165441  1.165441  1.172794  ...  0.996324  0.996324   \n",
       "\n",
       "time           1372      1373      1374      1375      1376      1377  \\\n",
       "sample_id                                                               \n",
       "0          1.008883  1.004351  1.003916  1.003807  1.003336  1.000725   \n",
       "1          0.999345  0.999158  0.999719  0.999439  0.997288  0.998691   \n",
       "2          1.000907  1.000744  0.999618  0.999595  0.999602  0.999696   \n",
       "3          1.000676  1.000676  1.000338  1.000169  1.000507  1.000000   \n",
       "4          0.996324  0.996324  0.996324  0.996324  0.996324  0.996324   \n",
       "\n",
       "time           1378  1379  \n",
       "sample_id                  \n",
       "0          0.997136   1.0  \n",
       "1          1.000374   1.0  \n",
       "2          0.999860   1.0  \n",
       "3          0.999324   1.0  \n",
       "4          0.996324   1.0  \n",
       "\n",
       "[5 rows x 1380 columns]"
      ]
     },
     "execution_count": 54,
     "metadata": {},
     "output_type": "execute_result"
    }
   ],
   "source": [
    "x_train_open.head()"
   ]
  },
  {
   "cell_type": "code",
   "execution_count": 53,
   "metadata": {},
   "outputs": [
    {
     "data": {
      "text/plain": [
       "array([[1.00027527, 1.00076566, 1.00172091, ..., 0.99779852, 0.99824813,\n",
       "        0.99904375],\n",
       "       [1.00043056, 1.0003413 , 1.00017959, ..., 0.99863656, 0.99899733,\n",
       "        0.99873294],\n",
       "       [0.99974154, 1.00027284, 1.00014621, ..., 0.99931637, 0.99883423,\n",
       "        0.99858084],\n",
       "       ...,\n",
       "       [0.99982817, 1.00026777, 1.00004864, ..., 0.99920795, 0.99902235,\n",
       "        0.99874042],\n",
       "       [0.9993928 , 0.99940276, 0.99941752, ..., 0.99389853, 0.9934723 ,\n",
       "        0.99337243],\n",
       "       [0.99999103, 1.00016277, 1.0003337 , ..., 0.99942325, 0.99922075,\n",
       "        0.99907361]])"
      ]
     },
     "execution_count": 53,
     "metadata": {},
     "output_type": "execute_result"
    }
   ],
   "source": [
    "model_linear.predict(x_train_open)"
   ]
  },
  {
   "cell_type": "code",
   "execution_count": 52,
   "metadata": {},
   "outputs": [
    {
     "data": {
      "text/plain": [
       "['./model/model_linear.joblib']"
      ]
     },
     "execution_count": 52,
     "metadata": {},
     "output_type": "execute_result"
    }
   ],
   "source": [
    "joblib.dump(model_linear, './model/model_linear.joblib')"
   ]
  }
 ],
 "metadata": {
  "interpreter": {
   "hash": "64ee61b65256e8d0a152217dcaa56d0ec98ae346b6da8c45f714a490bcd09281"
  },
  "kernelspec": {
   "display_name": "Python 3.7.6 64-bit ('base': conda)",
   "language": "python",
   "name": "python3"
  },
  "language_info": {
   "codemirror_mode": {
    "name": "ipython",
    "version": 3
   },
   "file_extension": ".py",
   "mimetype": "text/x-python",
   "name": "python",
   "nbconvert_exporter": "python",
   "pygments_lexer": "ipython3",
   "version": "3.7.6"
  },
  "orig_nbformat": 4
 },
 "nbformat": 4,
 "nbformat_minor": 2
}
